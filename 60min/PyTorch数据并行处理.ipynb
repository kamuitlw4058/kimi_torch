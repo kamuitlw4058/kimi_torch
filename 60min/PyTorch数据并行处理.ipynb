{
 "cells": [
  {
   "cell_type": "markdown",
   "metadata": {
    "collapsed": true
   },
   "source": [
    "# PyTorch数据并行处理"
   ]
  },
  {
   "cell_type": "code",
   "execution_count": null,
   "metadata": {
    "collapsed": true
   },
   "outputs": [],
   "source": [
    "import torch\n",
    "import torch.nn as nn"
   ]
  },
  {
   "cell_type": "code",
   "execution_count": 23,
   "metadata": {
    "collapsed": true
   },
   "outputs": [],
   "source": [
    "device = torch.device(\"cuda:0\" if torch.cuda.is_available() else \"cpu\")"
   ]
  },
  {
   "cell_type": "code",
   "execution_count": 17,
   "metadata": {},
   "outputs": [
    {
     "data": {
      "text/plain": [
       "device(type='cuda', index=0)"
      ]
     },
     "execution_count": 17,
     "metadata": {},
     "output_type": "execute_result"
    }
   ],
   "source": [
    "# 哪些东西 需要给device\n",
    "model.to(device)\n",
    "data.to(device)#tensor"
   ]
  },
  {
   "cell_type": "code",
   "execution_count": null,
   "metadata": {
    "collapsed": true
   },
   "outputs": [],
   "source": [
    "# 并行\n",
    "model = nn.DataParallel(model)"
   ]
  },
  {
   "cell_type": "code",
   "execution_count": 19,
   "metadata": {
    "collapsed": true
   },
   "outputs": [],
   "source": [
    "# toy data & model\n",
    "from torch.utils.data import Dataset,DataLoader\n",
    "# 超参\n",
    "input_size = 5\n",
    "output_size = 2\n",
    "batch_size = 30\n",
    "data_size = 100\n"
   ]
  },
  {
   "cell_type": "code",
   "execution_count": 21,
   "metadata": {
    "collapsed": true
   },
   "outputs": [],
   "source": [
    "# 新数据 包装成 DataLoader\n",
    "class RandomDataset(Dataset):\n",
    "    def __init__(self,input_size,data_size):\n",
    "        self.len = data_size\n",
    "        self.data = torch.randn(data_size,input_size)\n",
    "    def __getitem__(self,index):\n",
    "        return self.data[index]\n",
    "    def __len__(self):\n",
    "        return self.len\n",
    "rand_loader = DataLoader(dataset = RandomDataset(input_size,data_size),batch_size=batch_size,shuffle=True)"
   ]
  },
  {
   "cell_type": "code",
   "execution_count": 24,
   "metadata": {},
   "outputs": [
    {
     "name": "stdout",
     "output_type": "stream",
     "text": [
      "Let us use 4 GPUS!\n"
     ]
    },
    {
     "data": {
      "text/plain": [
       "DataParallel(\n",
       "  (module): Model(\n",
       "    (fc): Linear(in_features=5, out_features=2, bias=True)\n",
       "  )\n",
       ")"
      ]
     },
     "execution_count": 24,
     "metadata": {},
     "output_type": "execute_result"
    }
   ],
   "source": [
    "class Model(nn.Module):\n",
    "    def __init__(self,input_size,output_size):\n",
    "        super(Model,self).__init__()\n",
    "        self.fc = nn.Linear(input_size,output_size)\n",
    "    def forward(self,input):\n",
    "        output = self.fc(input)\n",
    "        print(\"\\tIn Model: input size\",input.size(),\n",
    "             \"Output size\",output.size())\n",
    "        return output\n",
    "model = Model(input_size,output_size)\n",
    "print(\"Let us use\",torch.cuda.device_count(),\"GPUS!\")\n",
    "model = nn.DataParallel(model)\n",
    "model.to(device)"
   ]
  },
  {
   "cell_type": "code",
   "execution_count": 25,
   "metadata": {},
   "outputs": [
    {
     "name": "stdout",
     "output_type": "stream",
     "text": [
      "\tIn Model: input size\tIn Model: input size \tIn Model: input sizetorch.Size([8, 5])  torch.Size([8, 5]) Output size torch.Size([8, 5])\tIn Model: input size Output size  torch.Size([8, 2]) Output sizetorch.Size([6, 5])\n",
      "torch.Size([8, 2])  Output size\n",
      "torch.Size([8, 2]) Outside:input size\n",
      "torch.Size([6, 2]) \n",
      "torch.Size([30, 5]) output_size torch.Size([30, 2])\n",
      "\tIn Model: input size \tIn Model: input size\tIn Model: input size\tIn Model: input sizetorch.Size([8, 5])    torch.Size([6, 5])torch.Size([8, 5])torch.Size([8, 5])Output size    Output sizeOutput sizeOutput sizetorch.Size([8, 2])   Outside:input size\n",
      "torch.Size([6, 2])torch.Size([8, 2])torch.Size([8, 2]) torch.Size([30, 5])\n",
      "\n",
      "\n",
      " output_size torch.Size([30, 2])\n",
      "\tIn Model: input size torch.Size([8, 5]) \tIn Model: input size\tIn Model: input size\tIn Model: input sizeOutput size    torch.Size([8, 5])torch.Size([8, 5])torch.Size([6, 5])torch.Size([8, 2])   Outside:input size\n",
      "Output sizeOutput sizeOutput size torch.Size([30, 5])    torch.Size([8, 2])torch.Size([8, 2])torch.Size([6, 2])output_size\n",
      "\n",
      "\n",
      " \tIn Model: input sizetorch.Size([30, 2]) \tIn Model: input size\n",
      "torch.Size([3, 5]) \tIn Model: input size\tIn Model: input size  torch.Size([3, 5]) torch.Size([1, 5])Output size torch.Size([3, 5])  Output size Output sizetorch.Size([3, 2]) Output sizeOutside:input size \n",
      "torch.Size([3, 2])  torch.Size([1, 2])torch.Size([10, 5])\n",
      "torch.Size([3, 2])\n",
      " \n",
      "output_size torch.Size([10, 2])\n"
     ]
    }
   ],
   "source": [
    "# train\n",
    "for data in rand_loader:\n",
    "    input = data.to(device)\n",
    "    output = model(input)\n",
    "    print(\"Outside:input size\",input.size(),\"output_size\",output.size())"
   ]
  },
  {
   "cell_type": "code",
   "execution_count": null,
   "metadata": {
    "collapsed": true
   },
   "outputs": [],
   "source": []
  }
 ],
 "metadata": {
  "kernelspec": {
   "display_name": "Python 3",
   "language": "python",
   "name": "python3"
  },
  "language_info": {
   "codemirror_mode": {
    "name": "ipython",
    "version": 3
   },
   "file_extension": ".py",
   "mimetype": "text/x-python",
   "name": "python",
   "nbconvert_exporter": "python",
   "pygments_lexer": "ipython3",
   "version": "3.6.1"
  }
 },
 "nbformat": 4,
 "nbformat_minor": 2
}
