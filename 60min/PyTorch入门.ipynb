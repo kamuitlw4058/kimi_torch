{
 "cells": [
  {
   "cell_type": "markdown",
   "metadata": {},
   "source": [
    "# PyTorch入门"
   ]
  },
  {
   "cell_type": "code",
   "execution_count": 1,
   "metadata": {},
   "outputs": [
    {
     "output_type": "execute_result",
     "data": {
      "text/plain": "tensor([1, 2])"
     },
     "metadata": {},
     "execution_count": 1
    }
   ],
   "source": [
    "import torch\n",
    "x = torch.tensor([1,2])\n",
    "x"
   ]
  },
  {
   "cell_type": "code",
   "execution_count": 2,
   "metadata": {},
   "outputs": [
    {
     "output_type": "execute_result",
     "data": {
      "text/plain": "tensor([[1, 1, 1],\n        [1, 1, 1],\n        [1, 1, 1],\n        [1, 1, 1],\n        [1, 1, 1]])"
     },
     "metadata": {},
     "execution_count": 2
    }
   ],
   "source": [
    "x.new_ones(5,3)"
   ]
  },
  {
   "cell_type": "code",
   "execution_count": 3,
   "metadata": {
    "collapsed": true
   },
   "outputs": [
    {
     "output_type": "execute_result",
     "data": {
      "text/plain": "<function Tensor.t>"
     },
     "metadata": {},
     "execution_count": 3
    }
   ],
   "source": [
    "x.t"
   ]
  },
  {
   "cell_type": "code",
   "execution_count": 4,
   "metadata": {
    "tags": []
   },
   "outputs": [
    {
     "output_type": "stream",
     "name": "stdout",
     "text": "tensor([[1, 1, 1],\n        [1, 1, 1],\n        [1, 1, 1],\n        [1, 1, 1],\n        [1, 1, 1]])\ntensor([[ 0.1168, -1.7098, -0.1888],\n        [-0.8839, -0.9513, -1.9180],\n        [ 0.2291,  0.9863,  1.7211],\n        [ 0.8906, -0.0884,  0.6102],\n        [-1.4204,  0.0613, -1.1187]])\n"
    }
   ],
   "source": [
    "x = torch.tensor([1,2])\n",
    "x = x.new_ones(5, 3)      \n",
    "# new_* methods take in sizes\n",
    "print(x)\n",
    "\n",
    "x = torch.randn_like(x,dtype = torch.float)    \n",
    "# override dtype!\n",
    "print(x)                                      \n",
    "# result has the same size"
   ]
  },
  {
   "cell_type": "code",
   "execution_count": 5,
   "metadata": {},
   "outputs": [
    {
     "output_type": "execute_result",
     "data": {
      "text/plain": "tensor([-0.2105, -1.2662, -1.6553])"
     },
     "metadata": {},
     "execution_count": 5
    }
   ],
   "source": [
    "x = torch.randn(3, requires_grad=True)\n",
    "x\n",
    "y = x * 2\n",
    "print(y)\n",
    "y.data\n"
   ]
  },
  {
   "cell_type": "code",
   "execution_count": 6,
   "metadata": {},
   "outputs": [
    {
     "output_type": "execute_result",
     "data": {
      "text/plain": "tensor(2.0947)"
     },
     "metadata": {},
     "execution_count": 6
    }
   ],
   "source": [
    "y.data.norm()"
   ]
  },
  {
   "cell_type": "code",
   "execution_count": 7,
   "metadata": {
    "collapsed": true
   },
   "outputs": [],
   "source": [
    "import numpy as np\n",
    "import torch"
   ]
  },
  {
   "cell_type": "code",
   "execution_count": 8,
   "metadata": {},
   "outputs": [
    {
     "output_type": "execute_result",
     "data": {
      "text/plain": "array([1, 2, 3])"
     },
     "metadata": {},
     "execution_count": 8
    }
   ],
   "source": [
    "np.array([1,2,3]) # ndarrays"
   ]
  },
  {
   "cell_type": "code",
   "execution_count": 9,
   "metadata": {},
   "outputs": [
    {
     "output_type": "execute_result",
     "data": {
      "text/plain": "tensor([1, 2, 3])"
     },
     "metadata": {},
     "execution_count": 9
    }
   ],
   "source": [
    "torch.tensor([1,2,3]) # tensor"
   ]
  },
  {
   "cell_type": "code",
   "execution_count": 10,
   "metadata": {
    "collapsed": true
   },
   "outputs": [],
   "source": [
    "# tensor相关的函数 & 运算"
   ]
  },
  {
   "cell_type": "code",
   "execution_count": 11,
   "metadata": {},
   "outputs": [
    {
     "output_type": "execute_result",
     "data": {
      "text/plain": "tensor([[0., 0., 0.],\n        [0., 0., 0.],\n        [0., 0., 0.],\n        [0., 0., 0.],\n        [0., 0., 0.]])"
     },
     "metadata": {},
     "execution_count": 11
    }
   ],
   "source": [
    "torch.empty(5,3)"
   ]
  },
  {
   "cell_type": "code",
   "execution_count": 12,
   "metadata": {},
   "outputs": [
    {
     "output_type": "execute_result",
     "data": {
      "text/plain": "tensor([[ 0.0819, -1.4773, -0.3198],\n        [ 2.2769,  0.5956,  1.2860],\n        [-0.0383, -0.7507,  0.3220],\n        [ 1.7705,  2.0655,  0.2639],\n        [ 0.9812,  0.5314,  0.1384]])"
     },
     "metadata": {},
     "execution_count": 12
    }
   ],
   "source": [
    "torch.randn(5,3) # 随机初始化的矩阵 包括以后一些网络模型 想去确认一些维度 模型结构 可能需要一些数据进行投喂"
   ]
  },
  {
   "cell_type": "code",
   "execution_count": 13,
   "metadata": {},
   "outputs": [
    {
     "output_type": "execute_result",
     "data": {
      "text/plain": "tensor([[0, 0, 0],\n        [0, 0, 0],\n        [0, 0, 0],\n        [0, 0, 0],\n        [0, 0, 0]])"
     },
     "metadata": {},
     "execution_count": 13
    }
   ],
   "source": [
    "torch.zeros(5,3,dtype = torch.long) # x → y 训练这样一个映射 神经网络 y truth_label one-hot表示\n",
    "# dtype 表示 数据格式"
   ]
  },
  {
   "cell_type": "code",
   "execution_count": 14,
   "metadata": {},
   "outputs": [
    {
     "output_type": "execute_result",
     "data": {
      "text/plain": "tensor([[1, 1, 1],\n        [1, 1, 1],\n        [1, 1, 1],\n        [1, 1, 1],\n        [1, 1, 1]])"
     },
     "metadata": {},
     "execution_count": 14
    }
   ],
   "source": [
    "# 基于已存在的tensor去操作\n",
    "x = torch.tensor([1,2,3])\n",
    "x.new_ones(5,3)"
   ]
  },
  {
   "cell_type": "code",
   "execution_count": 15,
   "metadata": {},
   "outputs": [
    {
     "output_type": "execute_result",
     "data": {
      "text/plain": "tensor([-0.2341,  0.0432, -0.5351])"
     },
     "metadata": {},
     "execution_count": 15
    }
   ],
   "source": [
    "torch.randn_like(x,dtype = torch.float)"
   ]
  },
  {
   "cell_type": "code",
   "execution_count": 16,
   "metadata": {},
   "outputs": [
    {
     "output_type": "execute_result",
     "data": {
      "text/plain": "torch.Size([3])"
     },
     "metadata": {},
     "execution_count": 16
    }
   ],
   "source": [
    "# 查看维度 层到另外一层 矩阵相乘\n",
    "np.array([1,2,3]).shape\n",
    "torch.tensor([1,2,3]).size()"
   ]
  },
  {
   "cell_type": "code",
   "execution_count": 17,
   "metadata": {},
   "outputs": [
    {
     "output_type": "execute_result",
     "data": {
      "text/plain": "3"
     },
     "metadata": {},
     "execution_count": 17
    }
   ],
   "source": [
    "torch.randn(5,3).size()[1]"
   ]
  },
  {
   "cell_type": "code",
   "execution_count": 18,
   "metadata": {
    "tags": []
   },
   "outputs": [
    {
     "output_type": "stream",
     "name": "stdout",
     "text": "tensor([[ 2.7642, -1.6939,  1.1459],\n        [-0.4519, -0.3483, -0.5025],\n        [-0.1733,  0.6000, -1.5553],\n        [-1.2253,  0.1161, -2.4036],\n        [-2.6962,  1.1600,  1.8629]])\n"
    }
   ],
   "source": [
    "# 运算 加减乘除\n",
    "x = torch.randn(5,3)\n",
    "x\n",
    "y = torch.randn(5,3)\n",
    "y\n",
    "print(x+y)"
   ]
  },
  {
   "cell_type": "code",
   "execution_count": 19,
   "metadata": {
    "tags": []
   },
   "outputs": [
    {
     "output_type": "stream",
     "name": "stdout",
     "text": "tensor([[ 2.7642, -1.6939,  1.1459],\n        [-0.4519, -0.3483, -0.5025],\n        [-0.1733,  0.6000, -1.5553],\n        [-1.2253,  0.1161, -2.4036],\n        [-2.6962,  1.1600,  1.8629]])\n"
    }
   ],
   "source": [
    "z = torch.empty(5,3)\n",
    "torch.add(x,y,out = z)\n",
    "print(z)"
   ]
  },
  {
   "cell_type": "code",
   "execution_count": 20,
   "metadata": {},
   "outputs": [
    {
     "output_type": "execute_result",
     "data": {
      "text/plain": "tensor([[ 2.7642, -1.6939,  1.1459],\n        [-0.4519, -0.3483, -0.5025],\n        [-0.1733,  0.6000, -1.5553],\n        [-1.2253,  0.1161, -2.4036],\n        [-2.6962,  1.1600,  1.8629]])"
     },
     "metadata": {},
     "execution_count": 20
    }
   ],
   "source": [
    "# adds x to y inplace  '_'\n",
    "y.add_(x)"
   ]
  },
  {
   "cell_type": "code",
   "execution_count": 21,
   "metadata": {},
   "outputs": [
    {
     "output_type": "execute_result",
     "data": {
      "text/plain": "array([3, 6])"
     },
     "metadata": {},
     "execution_count": 21
    }
   ],
   "source": [
    "# 操作 取 更改维度 取数值\n",
    "np.array([[1,2,3],[4,5,6]])[:,2] # :表示不指定行 默认是所有"
   ]
  },
  {
   "cell_type": "code",
   "execution_count": 22,
   "metadata": {},
   "outputs": [
    {
     "output_type": "execute_result",
     "data": {
      "text/plain": "tensor([[ 2.7642, -1.6939,  1.1459, -0.4519, -0.3483],\n        [-0.5025, -0.1733,  0.6000, -1.5553, -1.2253],\n        [ 0.1161, -2.4036, -2.6962,  1.1600,  1.8629]])"
     },
     "metadata": {},
     "execution_count": 22
    }
   ],
   "source": [
    "y.view(-1,5)"
   ]
  },
  {
   "cell_type": "code",
   "execution_count": 23,
   "metadata": {},
   "outputs": [
    {
     "output_type": "execute_result",
     "data": {
      "text/plain": "-1.2252964973449707"
     },
     "metadata": {},
     "execution_count": 23
    }
   ],
   "source": [
    "y[3,0].item() # 非常常用 loss 反向传导 打一下日志记录/画图 loss是否在减少 print(value)"
   ]
  },
  {
   "cell_type": "code",
   "execution_count": 24,
   "metadata": {
    "collapsed": true
   },
   "outputs": [],
   "source": [
    "# https://www.jianshu.com/p/7dbfc7076e5a"
   ]
  },
  {
   "cell_type": "code",
   "execution_count": 25,
   "metadata": {},
   "outputs": [
    {
     "output_type": "execute_result",
     "data": {
      "text/plain": "tensor([[0., 0., 0.],\n        [0., 0., 0.],\n        [0., 0., 0.],\n        [0., 0., 0.],\n        [0., 0., 0.]])"
     },
     "metadata": {},
     "execution_count": 25
    }
   ],
   "source": [
    "torch.zeros_like(y)"
   ]
  },
  {
   "cell_type": "code",
   "execution_count": null,
   "metadata": {
    "collapsed": true
   },
   "outputs": [],
   "source": []
  },
  {
   "cell_type": "code",
   "execution_count": null,
   "metadata": {
    "collapsed": true
   },
   "outputs": [],
   "source": []
  }
 ],
 "metadata": {
  "kernelspec": {
   "display_name": "Python 3",
   "language": "python",
   "name": "python_defaultSpec_1597198826282"
  },
  "language_info": {
   "codemirror_mode": {
    "name": "ipython",
    "version": 3
   },
   "file_extension": ".py",
   "mimetype": "text/x-python",
   "name": "python",
   "nbconvert_exporter": "python",
   "pygments_lexer": "ipython3",
   "version": "3.6.1"
  }
 },
 "nbformat": 4,
 "nbformat_minor": 2
}