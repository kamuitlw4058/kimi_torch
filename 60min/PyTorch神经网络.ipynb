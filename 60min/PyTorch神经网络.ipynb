{
 "cells": [
  {
   "cell_type": "code",
   "execution_count": null,
   "metadata": {
    "collapsed": true
   },
   "outputs": [],
   "source": [
    "# data 灰色图片 1 channel 彩色图片RGB 32*32\n",
    "# batch 批度- 数据量 \n",
    "# input shape维度 图片中经常用到的 batch*channel*height*width 1*1*32*32\n"
   ]
  },
  {
   "cell_type": "code",
   "execution_count": 41,
   "metadata": {
    "collapsed": true
   },
   "outputs": [],
   "source": [
    "# 包\n",
    "import torch\n",
    "import torch.nn as nn\n",
    "import torch.nn.functional as F"
   ]
  },
  {
   "cell_type": "code",
   "execution_count": null,
   "metadata": {
    "collapsed": true
   },
   "outputs": [],
   "source": [
    "'''\n",
    "卷积\n",
    "stride 步长 1\n",
    "padding 补0 0\n",
    "kernel_size 3 (3,3)  (4,3)\n",
    "channel 核的数目 \n",
    "池化\n",
    "mean-pool \n",
    "max-pool\n",
    "stride = kernel_size \n",
    "'''"
   ]
  },
  {
   "cell_type": "code",
   "execution_count": 50,
   "metadata": {},
   "outputs": [],
   "source": [
    "# 类 卷积\n",
    "class Net(nn.Module):\n",
    "    def __init__(self):\n",
    "        super(Net,self).__init__()\n",
    "        # \n",
    "        self.conv1 = nn.Conv2d(1,6,5)\n",
    "        # nn.MaxPool2d\n",
    "        self.conv2 = nn.Conv2d(6,16,5)\n",
    "        self.fc1=nn.Linear(16*5*5 ,120) # linear 最后一维\n",
    "        self.fc2=nn.Linear(120,84)\n",
    "        self.fc3=nn.Linear(84,10) # output_dim \n",
    "    def forward(self,x):\n",
    "        x = F.max_pool2d(F.relu(self.conv1(x)),(2,2)) \n",
    "        x = F.max_pool2d(F.relu(self.conv2(x)),(2,2)) # 1 *  16*5*5   1*400\n",
    "        x = x.view(-1,16*5*5)\n",
    "        x = F.relu(self.fc1(x))\n",
    "        x = F.relu(self.fc2(x))\n",
    "        x = self.fc3(x)\n",
    "        return x\n",
    "    "
   ]
  },
  {
   "cell_type": "code",
   "execution_count": 46,
   "metadata": {},
   "outputs": [
    {
     "data": {
      "text/plain": [
       "tensor([[[[-2.5809, -2.2491, -0.0456,  ..., -0.8281,  0.2900,  0.1445],\n",
       "          [ 0.4924, -0.4074, -0.5083,  ...,  0.6781, -0.6279,  0.3205],\n",
       "          [-0.8451,  1.1822, -1.0632,  ..., -0.4028,  0.6121, -1.3489],\n",
       "          ...,\n",
       "          [-0.5405, -0.6952, -1.8725,  ...,  1.0007, -0.5759, -0.9925],\n",
       "          [-0.7152, -0.8450, -0.4680,  ...,  0.3789,  0.5160, -0.6079],\n",
       "          [ 0.0461, -0.2224,  0.1851,  ...,  1.5589,  0.9761, -0.7375]]]])"
      ]
     },
     "execution_count": 46,
     "metadata": {},
     "output_type": "execute_result"
    }
   ],
   "source": [
    "image = torch.randn(1,1,32,32)\n",
    "image"
   ]
  },
  {
   "cell_type": "code",
   "execution_count": 47,
   "metadata": {},
   "outputs": [
    {
     "data": {
      "text/plain": [
       "torch.Size([1, 6, 28, 28])"
      ]
     },
     "execution_count": 47,
     "metadata": {},
     "output_type": "execute_result"
    },
    {
     "data": {
      "text/plain": [
       "torch.Size([1, 6, 28, 28])"
      ]
     },
     "execution_count": 47,
     "metadata": {},
     "output_type": "execute_result"
    },
    {
     "data": {
      "text/plain": [
       "torch.Size([1, 6, 14, 14])"
      ]
     },
     "execution_count": 47,
     "metadata": {},
     "output_type": "execute_result"
    }
   ],
   "source": [
    "self_conv1 = nn.Conv2d(1,6,5)\n",
    "self_conv1(image).shape\n",
    "F.relu(self_conv1(image)).shape\n",
    "F.max_pool2d(F.relu(self_conv1(image)),(2,2)).shape\n"
   ]
  },
  {
   "cell_type": "code",
   "execution_count": 59,
   "metadata": {},
   "outputs": [
    {
     "name": "stdout",
     "output_type": "stream",
     "text": [
      "Net(\n",
      "  (conv1): Conv2d(1, 6, kernel_size=(5, 5), stride=(1, 1))\n",
      "  (conv2): Conv2d(6, 16, kernel_size=(5, 5), stride=(1, 1))\n",
      "  (fc1): Linear(in_features=400, out_features=120, bias=True)\n",
      "  (fc2): Linear(in_features=120, out_features=84, bias=True)\n",
      "  (fc3): Linear(in_features=84, out_features=10, bias=True)\n",
      ")\n"
     ]
    }
   ],
   "source": [
    "net = Net()\n",
    "print(net)"
   ]
  },
  {
   "cell_type": "code",
   "execution_count": 53,
   "metadata": {},
   "outputs": [
    {
     "name": "stdout",
     "output_type": "stream",
     "text": [
      "torch.Size([6, 1, 5, 5])\n",
      "torch.Size([6])\n",
      "torch.Size([16, 6, 5, 5])\n",
      "torch.Size([16])\n",
      "torch.Size([120, 400])\n",
      "torch.Size([120])\n",
      "torch.Size([84, 120])\n",
      "torch.Size([84])\n",
      "torch.Size([10, 84])\n",
      "torch.Size([10])\n"
     ]
    }
   ],
   "source": [
    "for param in list(net.parameters()):\n",
    "    print(param.size())"
   ]
  },
  {
   "cell_type": "code",
   "execution_count": 60,
   "metadata": {},
   "outputs": [
    {
     "name": "stdout",
     "output_type": "stream",
     "text": [
      "tensor([[-0.1538,  0.2345,  0.0163, -0.0747, -0.0048, -0.0948,  0.0715,  0.1349,\n",
      "         -0.1025,  0.0689]], grad_fn=<AddmmBackward>)\n"
     ]
    }
   ],
   "source": [
    "image = torch.randn(1,1,32,32)\n",
    "out = net(image)\n",
    "print(out)"
   ]
  },
  {
   "cell_type": "code",
   "execution_count": 55,
   "metadata": {
    "collapsed": true
   },
   "outputs": [],
   "source": [
    "net.zero_grad()\n",
    "out.backward(torch.randn(1,10))"
   ]
  },
  {
   "cell_type": "code",
   "execution_count": 58,
   "metadata": {},
   "outputs": [
    {
     "name": "stdout",
     "output_type": "stream",
     "text": [
      "before backward\n",
      "None\n",
      "after backward\n",
      "tensor([ 0.0020,  0.0031,  0.0231, -0.0334,  0.0158,  0.0332])\n"
     ]
    }
   ],
   "source": [
    "net.zero_grad()\n",
    "print('before backward')\n",
    "print(net.conv1.bias.grad)\n",
    "\n",
    "out.backward(torch.randn(1,10))\n",
    "print('after backward')\n",
    "print(net.conv1.bias.grad)"
   ]
  },
  {
   "cell_type": "code",
   "execution_count": 61,
   "metadata": {},
   "outputs": [
    {
     "name": "stdout",
     "output_type": "stream",
     "text": [
      "tensor(0.6358, grad_fn=<MseLossBackward>)\n"
     ]
    }
   ],
   "source": [
    "# 前向  loss标准 反向\n",
    "# predict y - truth y 差值 距离 均方误差 绝对值误差 交叉熵 多分类中\n",
    "target = torch.randn(1,10)\n",
    "\n",
    "criterion = nn.MSELoss()\n",
    "loss = criterion(out,target)\n",
    "print(loss)"
   ]
  },
  {
   "cell_type": "code",
   "execution_count": null,
   "metadata": {
    "collapsed": true
   },
   "outputs": [],
   "source": [
    "# 求梯度 以及 优化/更新 分开\n",
    "loss.backward()\n",
    "weight = weight - learning_rate * gradient \n",
    "learning_rate = 0.01\n",
    "for f in net.parameters():\n",
    "    f.data.sub_(learning_rate * f.grad.data)\n"
   ]
  },
  {
   "cell_type": "code",
   "execution_count": 62,
   "metadata": {
    "collapsed": true
   },
   "outputs": [],
   "source": [
    "import torch.optim as optim # SGD Momentum Adam\n",
    "optimizer = optim.SGD(net.parameters(),lr = 0.01)"
   ]
  },
  {
   "cell_type": "code",
   "execution_count": 63,
   "metadata": {
    "collapsed": true
   },
   "outputs": [],
   "source": [
    "optimizer.zero_grad()\n",
    "out = net(image)\n",
    "loss = criterion(out,target)\n",
    "loss.backward()\n",
    "optimizer.step()"
   ]
  },
  {
   "cell_type": "code",
   "execution_count": 64,
   "metadata": {},
   "outputs": [
    {
     "name": "stdout",
     "output_type": "stream",
     "text": [
      "tensor(0.6358, grad_fn=<MseLossBackward>)\n"
     ]
    }
   ],
   "source": []
  }
 ],
 "metadata": {
  "kernelspec": {
   "display_name": "Python 3",
   "language": "python",
   "name": "python3"
  },
  "language_info": {
   "codemirror_mode": {
    "name": "ipython",
    "version": 3
   },
   "file_extension": ".py",
   "mimetype": "text/x-python",
   "name": "python",
   "nbconvert_exporter": "python",
   "pygments_lexer": "ipython3",
   "version": "3.6.1"
  }
 },
 "nbformat": 4,
 "nbformat_minor": 2
}
